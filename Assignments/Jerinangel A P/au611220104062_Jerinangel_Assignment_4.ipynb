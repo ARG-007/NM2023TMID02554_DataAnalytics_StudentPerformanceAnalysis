{
  "cells": [
    {
      "cell_type": "markdown",
      "metadata": {
        "id": "9PL1Qe3LNb5o"
      },
      "source": [
        "# AI ML Assingment 1 (Basic Python)\n"
      ]
    },
    {
      "cell_type": "markdown",
      "metadata": {
        "id": "sGytKwIQNeol"
      },
      "source": [
        "# Task 1"
      ]
    },
    {
      "cell_type": "markdown",
      "metadata": {
        "id": "a80Yvh1YNgsu"
      },
      "source": [
        "### Create two list and join those two list"
      ]
    },
    {
      "cell_type": "code",
      "execution_count": 1,
      "metadata": {
        "colab": {
          "base_uri": "https://localhost:8080/"
        },
        "id": "E0fMig2PNitH",
        "outputId": "1f49c171-884d-41e3-b904-65c3765a7a3e"
      },
      "outputs": [
        {
          "name": "stdout",
          "output_type": "stream",
          "text": [
            "[1, 2, 3, 4, 5, 6, 7, 8, 9, 10]\n"
          ]
        }
      ],
      "source": [
        "list_1 = [1,2,3,4,5]\n",
        "list_2 = [6,7,8,9,10]\n",
        "\n",
        "#joined list is\n",
        "\n",
        "joined_list = list_1 + list_2\n",
        "print(joined_list)\n"
      ]
    },
    {
      "cell_type": "markdown",
      "metadata": {
        "id": "8ku1NbiNNr-V"
      },
      "source": [
        "# Task 2"
      ]
    },
    {
      "cell_type": "markdown",
      "metadata": {
        "id": "JnM74Be2Ntco"
      },
      "source": [
        "### With if statement find the even number"
      ]
    },
    {
      "cell_type": "code",
      "execution_count": 2,
      "metadata": {
        "colab": {
          "base_uri": "https://localhost:8080/"
        },
        "id": "CZe3Cm5INvS_",
        "outputId": "119253d9-0caa-432e-d0ca-f936aceed6c0"
      },
      "outputs": [
        {
          "name": "stdout",
          "output_type": "stream",
          "text": [
            "Even numbers are: 2 4 6 8 10 "
          ]
        }
      ],
      "source": [
        "#lets find the even numbers from the list\n",
        "\n",
        "print(\"Even numbers are: \", end=\"\");\n",
        "for i in range(0,len(joined_list)):\n",
        "    if(joined_list[i]%2==0):\n",
        "        print(joined_list[i],end=\" \")"
      ]
    },
    {
      "cell_type": "markdown",
      "metadata": {
        "id": "k-mtd9VpN3RT"
      },
      "source": [
        "# Task 3\n"
      ]
    },
    {
      "cell_type": "markdown",
      "metadata": {
        "id": "Nme6nNrkN7XZ"
      },
      "source": [
        "###  Create a dictionary with 3 keys and 2 values for each key"
      ]
    },
    {
      "cell_type": "code",
      "execution_count": 3,
      "metadata": {
        "colab": {
          "base_uri": "https://localhost:8080/"
        },
        "id": "SiCzRsYXNzrp",
        "outputId": "20917418-ce28-4665-b3d7-3a62b220daeb"
      },
      "outputs": [
        {
          "name": "stdout",
          "output_type": "stream",
          "text": [
            "{'key1': ['apple', 'orange'], 'key2': ['cherry', 'grape'], 'key3': ['guava', 'mango']}\n"
          ]
        }
      ],
      "source": [
        "my_dict = {\n",
        "    'key1':['apple','orange'],\n",
        "    'key2':['cherry','grape'],\n",
        "    'key3':['guava','mango'],\n",
        "}\n",
        "\n",
        "print(my_dict)"
      ]
    },
    {
      "cell_type": "markdown",
      "metadata": {
        "id": "o4ZksnnkODHu"
      },
      "source": [
        "\n",
        "# Task 4"
      ]
    },
    {
      "cell_type": "markdown",
      "metadata": {
        "id": "ddk8de58OFrc"
      },
      "source": [
        "### Create a function with if statement which is used to find the odd numbers"
      ]
    },
    {
      "cell_type": "code",
      "execution_count": 4,
      "metadata": {
        "colab": {
          "base_uri": "https://localhost:8080/"
        },
        "id": "kUiYOt0nOALb",
        "outputId": "7c15ee35-ee82-4e9a-d24d-f1f40e3f0ef2"
      },
      "outputs": [
        {
          "name": "stdout",
          "output_type": "stream",
          "text": [
            "Odd numbers are: 1 3 5 7 9 "
          ]
        }
      ],
      "source": [
        "#function to find odd numbers\n",
        "\n",
        "def odd_num(list_num):\n",
        "    print(\"Odd numbers are: \", end=\"\")\n",
        "    for i in list_num:\n",
        "        if(i%2!=0):\n",
        "            print(i,end=\" \")\n",
        "\n",
        "#function call\n",
        "odd_num(joined_list)\n"
      ]
    },
    {
      "cell_type": "markdown",
      "metadata": {
        "id": "RoPSDkvkOJzZ"
      },
      "source": [
        "# Task 5"
      ]
    },
    {
      "cell_type": "markdown",
      "metadata": {
        "id": "B2GhVFnCOLNH"
      },
      "source": [
        "### Write a python function to sum all the numbers in a list"
      ]
    },
    {
      "cell_type": "code",
      "execution_count": 5,
      "metadata": {
        "colab": {
          "base_uri": "https://localhost:8080/"
        },
        "id": "mekojNI2NYEQ",
        "outputId": "4c5b4e90-e784-4628-b7d3-1b021ad2d4ee"
      },
      "outputs": [
        {
          "name": "stdout",
          "output_type": "stream",
          "text": [
            "Output: 20\n"
          ]
        }
      ],
      "source": [
        "#function to sum all the numbers in the list\n",
        "\n",
        "def sum_of_numbers(fun_list):\n",
        "    Sum = 0\n",
        "    for num in fun_list:\n",
        "        Sum = Sum + num\n",
        "    print(\"Output:\",Sum)\n",
        "\n",
        "#calling function\n",
        "sample_list = [8,2,3,0,7]\n",
        "sum_of_numbers(sample_list)"
      ]
    }
  ],
  "metadata": {
    "colab": {
      "provenance": []
    },
    "kernelspec": {
      "display_name": "Python 3",
      "name": "python3"
    },
    "language_info": {
      "name": "python"
    }
  },
  "nbformat": 4,
  "nbformat_minor": 0
}
