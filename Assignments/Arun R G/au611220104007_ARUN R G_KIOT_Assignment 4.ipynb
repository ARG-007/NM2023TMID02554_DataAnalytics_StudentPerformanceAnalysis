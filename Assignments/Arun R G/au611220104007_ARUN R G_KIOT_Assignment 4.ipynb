{
  "cells": [
    {
      "cell_type": "markdown",
      "metadata": {
        "id": "9PL1Qe3LNb5o"
      },
      "source": [
        "# AI ML Assignment 1"
      ]
    },
    {
      "cell_type": "code",
      "execution_count": null,
      "metadata": {},
      "outputs": [],
      "source": [
        "%load_ext rich\n",
        "from rich import print"
      ]
    },
    {
      "cell_type": "markdown",
      "metadata": {
        "id": "sGytKwIQNeol"
      },
      "source": [
        "# Task 1"
      ]
    },
    {
      "cell_type": "markdown",
      "metadata": {
        "id": "a80Yvh1YNgsu"
      },
      "source": [
        "### Create two list and join those two list"
      ]
    },
    {
      "cell_type": "code",
      "execution_count": 8,
      "metadata": {
        "colab": {
          "base_uri": "https://localhost:8080/"
        },
        "id": "E0fMig2PNitH",
        "outputId": "1f49c171-884d-41e3-b904-65c3765a7a3e"
      },
      "outputs": [
        {
          "data": {
            "text/html": [
              "<pre style=\"white-space:pre;overflow-x:auto;line-height:normal;font-family:Menlo,'DejaVu Sans Mono',consolas,'Courier New',monospace\"><span style=\"color: #808000; text-decoration-color: #808000\">added_list</span>=<span style=\"font-weight: bold\">[</span><span style=\"color: #008080; text-decoration-color: #008080; font-weight: bold\">1</span>, <span style=\"color: #008080; text-decoration-color: #008080; font-weight: bold\">2</span>, <span style=\"color: #008080; text-decoration-color: #008080; font-weight: bold\">3</span>, <span style=\"color: #008080; text-decoration-color: #008080; font-weight: bold\">4</span>, <span style=\"color: #008080; text-decoration-color: #008080; font-weight: bold\">5</span>, <span style=\"color: #008080; text-decoration-color: #008080; font-weight: bold\">6</span>, <span style=\"color: #008080; text-decoration-color: #008080; font-weight: bold\">7</span>, <span style=\"color: #008080; text-decoration-color: #008080; font-weight: bold\">8</span>, <span style=\"color: #008080; text-decoration-color: #008080; font-weight: bold\">9</span>, <span style=\"color: #008080; text-decoration-color: #008080; font-weight: bold\">10</span><span style=\"font-weight: bold\">]</span>\n",
              "<span style=\"color: #808000; text-decoration-color: #808000\">spread_list</span>=<span style=\"font-weight: bold\">[</span><span style=\"color: #008080; text-decoration-color: #008080; font-weight: bold\">1</span>, <span style=\"color: #008080; text-decoration-color: #008080; font-weight: bold\">2</span>, <span style=\"color: #008080; text-decoration-color: #008080; font-weight: bold\">3</span>, <span style=\"color: #008080; text-decoration-color: #008080; font-weight: bold\">4</span>, <span style=\"color: #008080; text-decoration-color: #008080; font-weight: bold\">5</span>, <span style=\"color: #008080; text-decoration-color: #008080; font-weight: bold\">6</span>, <span style=\"color: #008080; text-decoration-color: #008080; font-weight: bold\">7</span>, <span style=\"color: #008080; text-decoration-color: #008080; font-weight: bold\">8</span>, <span style=\"color: #008080; text-decoration-color: #008080; font-weight: bold\">9</span>, <span style=\"color: #008080; text-decoration-color: #008080; font-weight: bold\">10</span><span style=\"font-weight: bold\">]</span>\n",
              "</pre>\n"
            ],
            "text/plain": [
              "\u001b[33madded_list\u001b[0m=\u001b[1m[\u001b[0m\u001b[1;36m1\u001b[0m, \u001b[1;36m2\u001b[0m, \u001b[1;36m3\u001b[0m, \u001b[1;36m4\u001b[0m, \u001b[1;36m5\u001b[0m, \u001b[1;36m6\u001b[0m, \u001b[1;36m7\u001b[0m, \u001b[1;36m8\u001b[0m, \u001b[1;36m9\u001b[0m, \u001b[1;36m10\u001b[0m\u001b[1m]\u001b[0m\n",
              "\u001b[33mspread_list\u001b[0m=\u001b[1m[\u001b[0m\u001b[1;36m1\u001b[0m, \u001b[1;36m2\u001b[0m, \u001b[1;36m3\u001b[0m, \u001b[1;36m4\u001b[0m, \u001b[1;36m5\u001b[0m, \u001b[1;36m6\u001b[0m, \u001b[1;36m7\u001b[0m, \u001b[1;36m8\u001b[0m, \u001b[1;36m9\u001b[0m, \u001b[1;36m10\u001b[0m\u001b[1m]\u001b[0m\n"
            ]
          },
          "metadata": {},
          "output_type": "display_data"
        }
      ],
      "source": [
        "list_1 = [1, 2, 3, 4, 5]\n",
        "list_2 = [6, 7, 8, 9, 10]\n",
        "\n",
        "# Can Be Done in 2 ways\n",
        "added_list = list_1 + list_2\n",
        "spread_list = [*list_1, *list_2]\n",
        "\n",
        "print(f\"{added_list=}\", f\"{spread_list=}\", sep=\"\\n\")"
      ]
    },
    {
      "cell_type": "markdown",
      "metadata": {
        "id": "8ku1NbiNNr-V"
      },
      "source": [
        "# Task 2"
      ]
    },
    {
      "cell_type": "markdown",
      "metadata": {
        "id": "JnM74Be2Ntco"
      },
      "source": [
        "### With if statement find the even number"
      ]
    },
    {
      "cell_type": "code",
      "execution_count": 12,
      "metadata": {
        "colab": {
          "base_uri": "https://localhost:8080/"
        },
        "id": "CZe3Cm5INvS_",
        "outputId": "119253d9-0caa-432e-d0ca-f936aceed6c0"
      },
      "outputs": [
        {
          "data": {
            "text/html": [
              "<pre style=\"white-space:pre;overflow-x:auto;line-height:normal;font-family:Menlo,'DejaVu Sans Mono',consolas,'Courier New',monospace\">Even Numbers Are : <span style=\"color: #008080; text-decoration-color: #008080; font-weight: bold\">2</span> <span style=\"color: #008080; text-decoration-color: #008080; font-weight: bold\">4</span> <span style=\"color: #008080; text-decoration-color: #008080; font-weight: bold\">6</span> <span style=\"color: #008080; text-decoration-color: #008080; font-weight: bold\">8</span> <span style=\"color: #008080; text-decoration-color: #008080; font-weight: bold\">10</span>\n",
              "</pre>\n"
            ],
            "text/plain": [
              "Even Numbers Are : \u001b[1;36m2\u001b[0m \u001b[1;36m4\u001b[0m \u001b[1;36m6\u001b[0m \u001b[1;36m8\u001b[0m \u001b[1;36m10\u001b[0m\n"
            ]
          },
          "metadata": {},
          "output_type": "display_data"
        }
      ],
      "source": [
        "# lets use filter and lambda to find even numbers\n",
        "\n",
        "print(\"Even Numbers Are :\", *filter(lambda x: not x % 2, added_list))"
      ]
    },
    {
      "cell_type": "markdown",
      "metadata": {
        "id": "k-mtd9VpN3RT"
      },
      "source": [
        "# Task 3\n"
      ]
    },
    {
      "cell_type": "markdown",
      "metadata": {
        "id": "Nme6nNrkN7XZ"
      },
      "source": [
        "###  Create a dictionary with 3 keys and 2 values for each key"
      ]
    },
    {
      "cell_type": "code",
      "execution_count": 23,
      "metadata": {
        "colab": {
          "base_uri": "https://localhost:8080/"
        },
        "id": "SiCzRsYXNzrp",
        "outputId": "20917418-ce28-4665-b3d7-3a62b220daeb"
      },
      "outputs": [
        {
          "data": {
            "text/html": [
              "<pre style=\"white-space:pre;overflow-x:auto;line-height:normal;font-family:Menlo,'DejaVu Sans Mono',consolas,'Courier New',monospace\"><span style=\"font-weight: bold\">{</span><span style=\"color: #008000; text-decoration-color: #008000\">'key1'</span>: <span style=\"font-weight: bold\">[</span><span style=\"color: #008000; text-decoration-color: #008000\">'apple'</span>, <span style=\"color: #008000; text-decoration-color: #008000\">'orange'</span><span style=\"font-weight: bold\">]</span>, <span style=\"color: #008000; text-decoration-color: #008000\">'key2'</span>: <span style=\"font-weight: bold\">[</span><span style=\"color: #008000; text-decoration-color: #008000\">'cherry'</span>, <span style=\"color: #008000; text-decoration-color: #008000\">'grape'</span><span style=\"font-weight: bold\">]</span>, <span style=\"color: #008000; text-decoration-color: #008000\">'key3'</span>: <span style=\"font-weight: bold\">[</span><span style=\"color: #008000; text-decoration-color: #008000\">'guava'</span>, <span style=\"color: #008000; text-decoration-color: #008000\">'mango'</span><span style=\"font-weight: bold\">]}</span>\n",
              "</pre>\n"
            ],
            "text/plain": [
              "\u001b[1m{\u001b[0m\u001b[32m'key1'\u001b[0m: \u001b[1m[\u001b[0m\u001b[32m'apple'\u001b[0m, \u001b[32m'orange'\u001b[0m\u001b[1m]\u001b[0m, \u001b[32m'key2'\u001b[0m: \u001b[1m[\u001b[0m\u001b[32m'cherry'\u001b[0m, \u001b[32m'grape'\u001b[0m\u001b[1m]\u001b[0m, \u001b[32m'key3'\u001b[0m: \u001b[1m[\u001b[0m\u001b[32m'guava'\u001b[0m, \u001b[32m'mango'\u001b[0m\u001b[1m]\u001b[0m\u001b[1m}\u001b[0m\n"
            ]
          },
          "metadata": {},
          "output_type": "display_data"
        }
      ],
      "source": [
        "my_dict = {\n",
        "    \"key1\": [\"apple\", \"orange\"],\n",
        "    \"key2\": [\"cherry\", \"grape\"],\n",
        "    \"key3\": [\"guava\", \"mango\"],\n",
        "}\n",
        "\n",
        "print(my_dict)"
      ]
    },
    {
      "cell_type": "markdown",
      "metadata": {
        "id": "o4ZksnnkODHu"
      },
      "source": [
        "\n",
        "# Task 4"
      ]
    },
    {
      "cell_type": "markdown",
      "metadata": {
        "id": "ddk8de58OFrc"
      },
      "source": [
        "### Create a function with if statement which is used to find the odd numbers"
      ]
    },
    {
      "cell_type": "code",
      "execution_count": 16,
      "metadata": {
        "colab": {
          "base_uri": "https://localhost:8080/"
        },
        "id": "kUiYOt0nOALb",
        "outputId": "7c15ee35-ee82-4e9a-d24d-f1f40e3f0ef2"
      },
      "outputs": [
        {
          "data": {
            "text/html": [
              "<pre style=\"white-space:pre;overflow-x:auto;line-height:normal;font-family:Menlo,'DejaVu Sans Mono',consolas,'Courier New',monospace\">Odd Numbers Are: <span style=\"color: #008080; text-decoration-color: #008080; font-weight: bold\">1</span> <span style=\"color: #008080; text-decoration-color: #008080; font-weight: bold\">3</span> <span style=\"color: #008080; text-decoration-color: #008080; font-weight: bold\">5</span> <span style=\"color: #008080; text-decoration-color: #008080; font-weight: bold\">7</span> <span style=\"color: #008080; text-decoration-color: #008080; font-weight: bold\">9</span>\n",
              "</pre>\n"
            ],
            "text/plain": [
              "Odd Numbers Are: \u001b[1;36m1\u001b[0m \u001b[1;36m3\u001b[0m \u001b[1;36m5\u001b[0m \u001b[1;36m7\u001b[0m \u001b[1;36m9\u001b[0m\n"
            ]
          },
          "metadata": {},
          "output_type": "display_data"
        }
      ],
      "source": [
        "# lets use filter shenanigans (again)\n",
        "\n",
        "\n",
        "def odd_num(num):\n",
        "    return True if num % 2 else False  # bool(num%2) would have been suffice\n",
        "\n",
        "\n",
        "print(\"Odd Numbers Are:\", *filter(odd_num, added_list))"
      ]
    },
    {
      "cell_type": "markdown",
      "metadata": {
        "id": "RoPSDkvkOJzZ"
      },
      "source": [
        "# Task 5"
      ]
    },
    {
      "cell_type": "markdown",
      "metadata": {
        "id": "B2GhVFnCOLNH"
      },
      "source": [
        "### Write a python function to sum all the numbers in a list"
      ]
    },
    {
      "cell_type": "code",
      "execution_count": 26,
      "metadata": {
        "colab": {
          "base_uri": "https://localhost:8080/"
        },
        "id": "mekojNI2NYEQ",
        "outputId": "4c5b4e90-e784-4628-b7d3-1b021ad2d4ee"
      },
      "outputs": [
        {
          "data": {
            "text/html": [
              "<pre style=\"white-space:pre;overflow-x:auto;line-height:normal;font-family:Menlo,'DejaVu Sans Mono',consolas,'Courier New',monospace\">Accumulated Sum: <span style=\"color: #008080; text-decoration-color: #008080; font-weight: bold\">55</span>\n",
              "</pre>\n"
            ],
            "text/plain": [
              "Accumulated Sum: \u001b[1;36m55\u001b[0m\n"
            ]
          },
          "metadata": {},
          "output_type": "display_data"
        }
      ],
      "source": [
        "# Again lets use func tools\n",
        "from functools import reduce\n",
        "\n",
        "\n",
        "def sum_it(acc, elem):\n",
        "    return acc + elem\n",
        "\n",
        "\n",
        "print(\"Accumulated Sum:\", reduce(sum_it, spread_list))"
      ]
    }
  ],
  "metadata": {
    "colab": {
      "provenance": []
    },
    "kernelspec": {
      "display_name": "Python 3",
      "name": "python3"
    },
    "language_info": {
      "codemirror_mode": {
        "name": "ipython",
        "version": 3
      },
      "file_extension": ".py",
      "mimetype": "text/x-python",
      "name": "python",
      "nbconvert_exporter": "python",
      "pygments_lexer": "ipython3",
      "version": "3.11.3"
    }
  },
  "nbformat": 4,
  "nbformat_minor": 0
}
